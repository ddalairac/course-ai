{
 "cells": [
  {
   "cell_type": "code",
   "execution_count": 2,
   "id": "457c5555-8120-48d2-9a8c-186261db0317",
   "metadata": {},
   "outputs": [
    {
     "name": "stdout",
     "output_type": "stream",
     "text": [
      "🔍 Similitud entre frases: 0.3680\n"
     ]
    }
   ],
   "source": [
    "from transformers import AutoTokenizer, AutoModel\n",
    "import torch\n",
    "import torch.nn.functional as F\n",
    "\n",
    "# Cargar modelo y tokenizer\n",
    "model_name = \"sentence-transformers/paraphrase-MiniLM-L6-v2\"\n",
    "tokenizer = AutoTokenizer.from_pretrained(model_name)\n",
    "model = AutoModel.from_pretrained(model_name)\n",
    "\n",
    "# Función para obtener embedding de una frase\n",
    "def get_embedding(text):\n",
    "    encoded = tokenizer(text, return_tensors='pt', padding=True, truncation=True)\n",
    "    with torch.no_grad():\n",
    "        model_output = model(**encoded)\n",
    "    embeddings = model_output.last_hidden_state\n",
    "    attention = encoded['attention_mask'].unsqueeze(-1)\n",
    "    return torch.sum(embeddings * attention, dim=1) / attention.sum(dim=1)\n",
    "\n",
    "# Frases a comparar\n",
    "frase_1 = \"La IA está cambiando el mundo\"\n",
    "frase_2 = \"La inteligencia artificial transforma la sociedad\"\n",
    "\n",
    "emb_1 = get_embedding(frase_1)\n",
    "emb_2 = get_embedding(frase_2)\n",
    "\n",
    "# Similaridad del coseno\n",
    "similaridad = F.cosine_similarity(emb_1, emb_2)\n",
    "\n",
    "print(f\"🔍 Similitud entre frases: {similaridad.item():.4f}\")"
   ]
  }
 ],
 "metadata": {
  "kernelspec": {
   "display_name": "Python (AI Env)",
   "language": "python",
   "name": "ai-env"
  },
  "language_info": {
   "codemirror_mode": {
    "name": "ipython",
    "version": 3
   },
   "file_extension": ".py",
   "mimetype": "text/x-python",
   "name": "python",
   "nbconvert_exporter": "python",
   "pygments_lexer": "ipython3",
   "version": "3.13.3"
  }
 },
 "nbformat": 4,
 "nbformat_minor": 5
}
